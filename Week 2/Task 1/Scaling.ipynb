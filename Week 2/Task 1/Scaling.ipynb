{
 "cells": [
  {
   "cell_type": "code",
   "execution_count": 1,
   "metadata": {},
   "outputs": [
    {
     "name": "stdout",
     "output_type": "stream",
     "text": [
      "MinMax Scaling: Mean Squared Error = 24.2911\n",
      "Standard Scaling: Mean Squared Error = 24.2911\n",
      "Robust Scaling: Mean Squared Error = 24.2911\n"
     ]
    }
   ],
   "source": [
    "import pandas as pd\n",
    "import numpy as np\n",
    "from sklearn.model_selection import train_test_split\n",
    "from sklearn.preprocessing import MinMaxScaler, StandardScaler, RobustScaler\n",
    "from sklearn.linear_model import LinearRegression\n",
    "from sklearn.metrics import mean_squared_error\n",
    "\n",
    "# Memuat dataset Boston Housing\n",
    "url = \"https://raw.githubusercontent.com/selva86/datasets/master/BostonHousing.csv\"\n",
    "df = pd.read_csv(url)\n",
    "\n",
    "# Memisahkan fitur dan target\n",
    "X = df.drop(columns=[\"medv\"])  # Target: medv (Median Value of Owner-Occupied Homes)\n",
    "y = df[\"medv\"]\n",
    "\n",
    "# Membagi dataset menjadi train dan test set\n",
    "X_train, X_test, y_train, y_test = train_test_split(X, y, test_size=0.2, random_state=42)\n",
    "\n",
    "# Menerapkan berbagai metode scaling\n",
    "scalers = {\n",
    "    \"MinMax Scaling\": MinMaxScaler(),\n",
    "    \"Standard Scaling\": StandardScaler(),\n",
    "    \"Robust Scaling\": RobustScaler(),\n",
    "}\n",
    "\n",
    "results = {}\n",
    "\n",
    "for name, scaler in scalers.items():\n",
    "    # Melakukan scaling pada data\n",
    "    X_train_scaled = scaler.fit_transform(X_train)\n",
    "    X_test_scaled = scaler.transform(X_test)\n",
    "    \n",
    "    # Melatih model regresi linier\n",
    "    model = LinearRegression()\n",
    "    model.fit(X_train_scaled, y_train)\n",
    "    \n",
    "    # Evaluasi model\n",
    "    y_pred = model.predict(X_test_scaled)\n",
    "    mse = mean_squared_error(y_test, y_pred)\n",
    "    results[name] = mse\n",
    "\n",
    "# Menampilkan hasil\n",
    "for method, mse in results.items():\n",
    "    print(f\"{method}: Mean Squared Error = {mse:.4f}\")\n",
    "\n"
   ]
  },
  {
   "cell_type": "markdown",
   "metadata": {},
   "source": [
    "Metode Scaling\n",
    "\n",
    "MinMax Scaling\n",
    "- Mengubah data ke dalam rentang [0,1].\n",
    "- Sensitif terhadap outlier karena skala bergantung pada nilai minimum dan maksimum.\n",
    "\n",
    "Standard Scaling\n",
    "- Memusatkan data dengan mean = 0 dan standar deviasi = 1.\n",
    "- Berguna untuk data yang mengikuti distribusi normal.\n",
    "\n",
    "Robust Scaling\n",
    "- Menggunakan median dan Interquartile Range (IQR) untuk mengurangi dampak outlier.\n",
    "- Cocok untuk data dengan distribusi yang mengandung pencilan (outlier).\n",
    "\n",
    "Hasil Evaluasi dengan Regresi Linear\n",
    "Dari eksperimen yang dilakukan, diperoleh hasil Mean Squared Error (MSE) sebagai berikut:\n",
    "- MinMax Scaling: 24.29\n",
    "- Standard Scaling: 24.29\n",
    "- Robust Scaling: 24.29\n",
    "\n",
    "Analisis Hasil\n",
    "\n",
    "Hasil yang hampir identik di semua metode scaling\n",
    "Regresi linear tidak terlalu dipengaruhi oleh skala absolut fitur karena berbasis perhitungan matriks dan hanya bergantung pada hubungan linear antar variabel."
   ]
  }
 ],
 "metadata": {
  "kernelspec": {
   "display_name": "Python 3",
   "language": "python",
   "name": "python3"
  },
  "language_info": {
   "codemirror_mode": {
    "name": "ipython",
    "version": 3
   },
   "file_extension": ".py",
   "mimetype": "text/x-python",
   "name": "python",
   "nbconvert_exporter": "python",
   "pygments_lexer": "ipython3",
   "version": "3.11.9"
  }
 },
 "nbformat": 4,
 "nbformat_minor": 2
}
