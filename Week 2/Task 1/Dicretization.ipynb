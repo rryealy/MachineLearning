{
 "cells": [
  {
   "cell_type": "code",
   "execution_count": 1,
   "metadata": {},
   "outputs": [
    {
     "name": "stdout",
     "output_type": "stream",
     "text": [
      "MSE tanpa discretization: 24.2911\n",
      "MSE dengan discretization: 27.3000\n"
     ]
    }
   ],
   "source": [
    "import pandas as pd\n",
    "import numpy as np\n",
    "from sklearn.model_selection import train_test_split\n",
    "from sklearn.preprocessing import KBinsDiscretizer\n",
    "from sklearn.linear_model import LinearRegression\n",
    "from sklearn.metrics import mean_squared_error\n",
    "\n",
    "# Memuat dataset\n",
    "url = \"https://raw.githubusercontent.com/selva86/datasets/master/BostonHousing.csv\"\n",
    "df = pd.read_csv(url)\n",
    "\n",
    "# Memisahkan fitur dan target\n",
    "X = df.drop(columns=[\"medv\"])  # Target: medv (Median Value of Owner-Occupied Homes)\n",
    "y = df[\"medv\"]\n",
    "\n",
    "# Membagi dataset menjadi train dan test set\n",
    "X_train, X_test, y_train, y_test = train_test_split(X, y, test_size=0.2, random_state=42)\n",
    "\n",
    "# Discretization menggunakan KBinsDiscretizer\n",
    "kbin_discretizer = KBinsDiscretizer(n_bins=5, encode='ordinal', strategy='uniform')\n",
    "X_train_binned = kbin_discretizer.fit_transform(X_train)\n",
    "X_test_binned = kbin_discretizer.transform(X_test)\n",
    "\n",
    "# Model regresi tanpa discretization\n",
    "model_continuous = LinearRegression()\n",
    "model_continuous.fit(X_train, y_train)\n",
    "y_pred_continuous = model_continuous.predict(X_test)\n",
    "mse_continuous = mean_squared_error(y_test, y_pred_continuous)\n",
    "\n",
    "# Model regresi dengan discretization\n",
    "model_binned = LinearRegression()\n",
    "model_binned.fit(X_train_binned, y_train)\n",
    "y_pred_binned = model_binned.predict(X_test_binned)\n",
    "mse_binned = mean_squared_error(y_test, y_pred_binned)\n",
    "\n",
    "# Menampilkan hasil\n",
    "print(f\"MSE tanpa discretization: {mse_continuous:.4f}\")\n",
    "print(f\"MSE dengan discretization: {mse_binned:.4f}\")"
   ]
  },
  {
   "cell_type": "markdown",
   "metadata": {},
   "source": [
    "Hasil Evaluasi (MSE - Mean Squared Error)\n",
    "- Model tanpa discretization (kontinu): 24.29\n",
    "- Model dengan discretization: 26.15\n",
    "\n",
    "Perbandingan Hasil\n",
    "\n",
    "Discretization menurunkan performa model\n",
    "- MSE lebih tinggi setelah discretization, yang berarti model kurang akurat dalam memprediksi.\n",
    "- Regresi linear bekerja lebih optimal dengan fitur numerik kontinu karena dapat menangkap hubungan linear lebih baik dibandingkan dengan data yang telah dikategorikan."
   ]
  }
 ],
 "metadata": {
  "kernelspec": {
   "display_name": "Python 3",
   "language": "python",
   "name": "python3"
  },
  "language_info": {
   "codemirror_mode": {
    "name": "ipython",
    "version": 3
   },
   "file_extension": ".py",
   "mimetype": "text/x-python",
   "name": "python",
   "nbconvert_exporter": "python",
   "pygments_lexer": "ipython3",
   "version": "3.11.9"
  }
 },
 "nbformat": 4,
 "nbformat_minor": 2
}
