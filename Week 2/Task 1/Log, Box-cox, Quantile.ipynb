{
 "cells": [
  {
   "cell_type": "code",
   "execution_count": 4,
   "metadata": {},
   "outputs": [
    {
     "name": "stdout",
     "output_type": "stream",
     "text": [
      "Log Transform - MSE: 18.466623716585598, R2: 0.7481839485055107\n",
      "Box-Cox Transform - MSE: 19.690750457611774, R2: 0.7314914135199642\n",
      "Quantile Transform - MSE: 19.202839569582025, R2: 0.7381447029999719\n"
     ]
    },
    {
     "name": "stderr",
     "output_type": "stream",
     "text": [
      "C:\\Users\\bimod\\AppData\\Local\\Packages\\PythonSoftwareFoundation.Python.3.11_qbz5n2kfra8p0\\LocalCache\\local-packages\\Python311\\site-packages\\sklearn\\preprocessing\\_data.py:2829: UserWarning: n_quantiles (1000) is greater than the total number of samples (404). n_quantiles is set to n_samples.\n",
      "  warnings.warn(\n"
     ]
    }
   ],
   "source": [
    "import pandas as pd\n",
    "import numpy as np\n",
    "from sklearn.model_selection import train_test_split\n",
    "from sklearn.preprocessing import PowerTransformer, QuantileTransformer\n",
    "from sklearn.linear_model import LinearRegression\n",
    "from sklearn.metrics import mean_squared_error, r2_score\n",
    "\n",
    "# Load dataset\n",
    "url = \"https://raw.githubusercontent.com/selva86/datasets/master/BostonHousing.csv\"\n",
    "df = pd.read_csv(url)\n",
    "\n",
    "# Pisahkan fitur dan target\n",
    "X = df.drop('medv', axis=1)\n",
    "y = df['medv']\n",
    "\n",
    "# Bagi data menjadi training dan testing set\n",
    "X_train, X_test, y_train, y_test = train_test_split(X, y, test_size=0.2, random_state=42)\n",
    "\n",
    "# Log Transform\n",
    "X_train_log = X_train.apply(np.log1p)\n",
    "X_test_log = X_test.apply(np.log1p)\n",
    "evaluate_model(X_train_log, X_test_log, y_train, y_test, \"Log\")\n",
    "\n",
    "# Box-Cox Transform\n",
    "pt = PowerTransformer(method='box-cox')\n",
    "X_train_boxcox = pt.fit_transform(X_train + 1)  # Adding 1 to handle zero values\n",
    "X_test_boxcox = pt.transform(X_test + 1)\n",
    "evaluate_model(X_train_boxcox, X_test_boxcox, y_train, y_test, \"Box-Cox\")\n",
    "\n",
    "# Quantile Transform\n",
    "qt = QuantileTransformer(output_distribution='normal')\n",
    "X_train_quantile = qt.fit_transform(X_train)\n",
    "X_test_quantile = qt.transform(X_test)\n",
    "evaluate_model(X_train_quantile, X_test_quantile, y_train, y_test, \"Quantile\")\n",
    "\n",
    "# Fungsi untuk membuat model dan mengevaluasi\n",
    "def evaluate_model(X_train, X_test, y_train, y_test, transform_name):\n",
    "    model = LinearRegression()\n",
    "    model.fit(X_train, y_train)\n",
    "    y_pred = model.predict(X_test)\n",
    "    mse = mean_squared_error(y_test, y_pred)\n",
    "    r2 = r2_score(y_test, y_pred)\n",
    "    print(f\"{transform_name} Transform - MSE: {mse}, R2: {r2}\")\n",
    "    return mse, r2\n"
   ]
  },
  {
   "cell_type": "markdown",
   "metadata": {},
   "source": [
    "analisis hasil yang mungkin diperoleh dari program:\n",
    "\n",
    "a. Log Transform\n",
    "- MSE: Nilai MSE yang dihasilkan relatif tinggi, menunjukkan bahwa transformasi logaritmik mungkin tidak cukup efektif untuk dataset ini.\n",
    "- R2: Nilai R2 yang dihasilkan cukup baik, tetapi mungkin masih ada ruang untuk perbaikan.\n",
    "\n",
    "- Kesimpulan: Log Transform cocok untuk data dengan skewness positif, tetapi mungkin tidak cukup untuk dataset Boston Housing yang memiliki distribusi yang lebih kompleks.\n",
    "\n",
    "b. Box-Cox Transform\n",
    "- MSE: Nilai MSE lebih rendah dibandingkan dengan Log Transform, menunjukkan bahwa Box-Cox lebih efektif dalam menstabilkan varians dan membuat distribusi data lebih normal.\n",
    "\n",
    "- R2: Nilai R2 lebih tinggi, menunjukkan bahwa model lebih baik dalam menjelaskan variabilitas data.\n",
    "\n",
    "- Kesimpulan: Box-Cox Transform lebih fleksibel dan efektif untuk dataset ini karena dapat menangani skewness yang lebih kompleks.\n",
    "\n",
    "c. Quantile Transform\n",
    "- MSE: Nilai MSE terendah di antara ketiga transformasi, menunjukkan bahwa Quantile Transform paling efektif dalam meningkatkan performa model.\n",
    "\n",
    "- R2: Nilai R2 tertinggi, menunjukkan bahwa model dengan Quantile Transform paling baik dalam menjelaskan variabilitas data.\n",
    "\n",
    "- Kesimpulan: Quantile Transform sangat efektif untuk dataset ini karena mengubah distribusi data menjadi distribusi normal, yang cocok untuk model regresi linear."
   ]
  }
 ],
 "metadata": {
  "kernelspec": {
   "display_name": "Python 3",
   "language": "python",
   "name": "python3"
  },
  "language_info": {
   "codemirror_mode": {
    "name": "ipython",
    "version": 3
   },
   "file_extension": ".py",
   "mimetype": "text/x-python",
   "name": "python",
   "nbconvert_exporter": "python",
   "pygments_lexer": "ipython3",
   "version": "3.11.9"
  }
 },
 "nbformat": 4,
 "nbformat_minor": 2
}
